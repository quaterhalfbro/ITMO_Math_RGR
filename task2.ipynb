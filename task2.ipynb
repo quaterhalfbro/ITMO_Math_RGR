{
 "cells": [
  {
   "cell_type": "code",
   "execution_count": 1,
   "metadata": {
    "collapsed": true
   },
   "outputs": [],
   "source": [
    "import numpy as np\n",
    "from source import *"
   ]
  },
  {
   "cell_type": "markdown",
   "source": [
    "# Task 2\n",
    "\n",
    "$$x(t) = \\frac{t}{3} * (3 - t)$$\n",
    "\n",
    "$$y(t) = \\frac{t^2}{8} * (3 - t)$$\n",
    "\n",
    "**Изобразите на графике кривую (-ые) и область, которую она (они) ограничивают.**\n"
   ],
   "metadata": {
    "collapsed": false,
    "pycharm": {
     "name": "#%% md\n"
    }
   }
  },
  {
   "cell_type": "code",
   "execution_count": 7,
   "outputs": [
    {
     "data": {
      "text/plain": "<Figure size 432x288 with 1 Axes>",
      "image/png": "[encoded data removed]"
     },
     "metadata": {
      "needs_background": "light"
     },
     "output_type": "display_data"
    }
   ],
   "source": [
    "x = np.array([i / 3 * (3 - i) for i in np.linspace(0, 3, 10000)])\n",
    "y = np.array([i ** 2 / 8 * (3 - i) for i in np.linspace(0, 3, 10000)])\n",
    "simple_plot(x, y)"
   ],
   "metadata": {
    "collapsed": false,
    "pycharm": {
     "name": "#%%\n"
    }
   }
  },
  {
   "cell_type": "markdown",
   "source": [
    "**Запишите формулу для нахождения площади при помощи определённого интеграла.**\n",
    "\n",
    "$\\int^{t2}_{t1}{y(t) * x'(t)}{\\rm d}t$"
   ],
   "metadata": {
    "collapsed": false,
    "pycharm": {
     "name": "#%% md\n"
    }
   }
  },
  {
   "cell_type": "markdown",
   "source": [
    "Вычислите интеграл и запишите ответ.\n",
    "\n",
    "$$x = y$$\n",
    "$$\\frac{t}{3} * (3 - t) = \\frac{t^2}{8} * (3 - t)$$\n",
    "$$t_1 = 0$$\n",
    "$$t_2 = 3$$\n",
    "\n",
    "$$x'(t) = -\\frac{2t}{3} + 1$$\n",
    "\n",
    "$$x'(t) = 0$$\n",
    "\n",
    "$$t = 1.5$$\n",
    "\n",
    "$$\\int^{1.5}_{0}{\\frac{t^2}{8} * (3 - t) * (-\\frac{2t}{3} + 1)}{\\rm d}t = \\int^{1.5}_{0}{(\\frac{x^4}{12} - \\frac{3x^3}{8} + \\frac{3x^2}{8})}{\\rm d}t = \\frac{189}{2560}$$\n",
    "\n",
    "$$\\int^{3}_{1.5}{\\frac{t^2}{8} * (3 - t) * (-\\frac{2t}{3} + 1)}{\\rm d}t = \\int^{3}_{1.5}{(\\frac{x^4}{12} - \\frac{3x^3}{8} + \\frac{3x^2}{8})}{\\rm d}t = -\\frac{621}{2560}$$\n"
   ],
   "metadata": {
    "collapsed": false,
    "pycharm": {
     "name": "#%% md\n"
    }
   }
  },
  {
   "cell_type": "markdown",
   "source": [
    "S = $\\frac{27}{160}$"
   ],
   "metadata": {
    "collapsed": false,
    "pycharm": {
     "name": "#%% md\n"
    }
   }
  },
  {
   "cell_type": "markdown",
   "source": [
    "**Оцените правдоподобность полученного ответа.**"
   ],
   "metadata": {
    "collapsed": false,
    "pycharm": {
     "name": "#%% md\n"
    }
   }
  },
  {
   "cell_type": "code",
   "execution_count": 16,
   "outputs": [
    {
     "data": {
      "text/plain": "4.451245388104936e-18"
     },
     "execution_count": 16,
     "metadata": {},
     "output_type": "execute_result"
    }
   ],
   "source": [
    "x_1 = np.array([i / 3 * (3 - i) for i in np.linspace(0, 3 / 2, 10000)])\n",
    "x_2 = np.array([i / 3 * (3 - i) for i in np.linspace(3 / 2, 3, 10000)])\n",
    "y_1 = np.array([i ** 2 / 8 * (3 - i) for i in np.linspace(0, 3 / 2, 10000)])\n",
    "y_2 = np.array([i ** 2 / 8 * (3 - i) for i in np.linspace(3 / 2, 3, 10000)])\n",
    "\n",
    "program_ans = abs(count_square(x_2, y_2)) - abs(count_square(x_1, y_1))\n",
    "analytic_ans = 27/160\n",
    "(program_ans - analytic_ans)**2"
   ],
   "metadata": {
    "collapsed": false,
    "pycharm": {
     "name": "#%%\n"
    }
   }
  },
  {
   "cell_type": "code",
   "execution_count": null,
   "outputs": [],
   "source": [],
   "metadata": {
    "collapsed": false,
    "pycharm": {
     "name": "#%%\n"
    }
   }
  },
  {
   "cell_type": "markdown",
   "source": [],
   "metadata": {
    "collapsed": false,
    "pycharm": {
     "name": "#%% md\n"
    }
   }
  }
 ],
 "metadata": {
  "kernelspec": {
   "display_name": "Python 3",
   "language": "python",
   "name": "python3"
  },
  "language_info": {
   "codemirror_mode": {
    "name": "ipython",
    "version": 2
   },
   "file_extension": ".py",
   "mimetype": "text/x-python",
   "name": "python",
   "nbconvert_exporter": "python",
   "pygments_lexer": "ipython2",
   "version": "2.7.6"
  }
 },
 "nbformat": 4,
 "nbformat_minor": 0
}