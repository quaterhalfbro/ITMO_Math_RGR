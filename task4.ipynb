{
 "cells": [
  {
   "cell_type": "markdown",
   "source": [
    "# Task 4"
   ],
   "metadata": {
    "collapsed": false,
    "pycharm": {
     "name": "#%% md\n"
    }
   }
  },
  {
   "cell_type": "markdown",
   "source": [
    "**Вычислить работу, необходимую для выкачивания бензина из вертикального цилиндрического резервуара высотой 6 м и радиусом основания 2 м. (Указание: величина работы, затрачиваемой на поднятие веса, равна произведению веса на высоту подъема).**\n",
    "\n",
    "Плотность бензина = 710 кг/м^3\n",
    "\n",
    "Вес бензина = $710 * 2^2 * \\pi * h * 10 = 28400 * \\pi * h$\n",
    "\n",
    "Высота резервуара меняется от 6 до 0.\n",
    "\n",
    "$A = \\int^{6}_{0}{28400 * \\pi * (6 - h)}{\\rm d}h = 511200 \\pi$"
   ],
   "metadata": {
    "collapsed": false,
    "pycharm": {
     "name": "#%% md\n"
    }
   }
  },
  {
   "cell_type": "markdown",
   "source": [
    "Ответ: 511200$\\pi$"
   ],
   "metadata": {
    "collapsed": false,
    "pycharm": {
     "name": "#%% md\n"
    }
   }
  },
  {
   "cell_type": "code",
   "execution_count": null,
   "outputs": [],
   "source": [],
   "metadata": {
    "collapsed": false,
    "pycharm": {
     "name": "#%%\n"
    }
   }
  }
 ],
 "metadata": {
  "kernelspec": {
   "display_name": "Python 3",
   "language": "python",
   "name": "python3"
  },
  "language_info": {
   "codemirror_mode": {
    "name": "ipython",
    "version": 2
   },
   "file_extension": ".py",
   "mimetype": "text/x-python",
   "name": "python",
   "nbconvert_exporter": "python",
   "pygments_lexer": "ipython2",
   "version": "2.7.6"
  }
 },
 "nbformat": 4,
 "nbformat_minor": 0
}